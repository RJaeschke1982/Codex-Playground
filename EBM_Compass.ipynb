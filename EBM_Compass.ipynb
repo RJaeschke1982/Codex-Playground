{
  "nbformat": 4,
  "nbformat_minor": 0,
  "metadata": {
    "colab": {
      "provenance": [],
      "authorship_tag": "ABX9TyNogCwqY2y6UIIqSmn9bT13",
      "include_colab_link": true
    },
    "kernelspec": {
      "name": "python3",
      "display_name": "Python 3"
    },
    "language_info": {
      "name": "python"
    },
    "widgets": {
      "application/vnd.jupyter.widget-state+json": {
        "64dcd2aa8356492799d339282eafc319": {
          "model_module": "@jupyter-widgets/controls",
          "model_name": "HBoxModel",
          "model_module_version": "1.5.0",
          "state": {
            "_dom_classes": [],
            "_model_module": "@jupyter-widgets/controls",
            "_model_module_version": "1.5.0",
            "_model_name": "HBoxModel",
            "_view_count": null,
            "_view_module": "@jupyter-widgets/controls",
            "_view_module_version": "1.5.0",
            "_view_name": "HBoxView",
            "box_style": "",
            "children": [
              "IPY_MODEL_f277096e3a3e424f8ef1b7547c97f0b3",
              "IPY_MODEL_c726576cf59f4fadaae24c8a534c3d46",
              "IPY_MODEL_49bdde2ba42a4ea4b3c43781d05117d2"
            ],
            "layout": "IPY_MODEL_0f6c62bfffd747b59746f15a8c08e6ff"
          }
        },
        "f277096e3a3e424f8ef1b7547c97f0b3": {
          "model_module": "@jupyter-widgets/controls",
          "model_name": "HTMLModel",
          "model_module_version": "1.5.0",
          "state": {
            "_dom_classes": [],
            "_model_module": "@jupyter-widgets/controls",
            "_model_module_version": "1.5.0",
            "_model_name": "HTMLModel",
            "_view_count": null,
            "_view_module": "@jupyter-widgets/controls",
            "_view_module_version": "1.5.0",
            "_view_name": "HTMLView",
            "description": "",
            "description_tooltip": null,
            "layout": "IPY_MODEL_86ff9fa9d5094ab3822fe6c175adf186",
            "placeholder": "​",
            "style": "IPY_MODEL_5af05a444e474c0ba948109850c73557",
            "value": "Ocena EBM: 100%"
          }
        },
        "c726576cf59f4fadaae24c8a534c3d46": {
          "model_module": "@jupyter-widgets/controls",
          "model_name": "FloatProgressModel",
          "model_module_version": "1.5.0",
          "state": {
            "_dom_classes": [],
            "_model_module": "@jupyter-widgets/controls",
            "_model_module_version": "1.5.0",
            "_model_name": "FloatProgressModel",
            "_view_count": null,
            "_view_module": "@jupyter-widgets/controls",
            "_view_module_version": "1.5.0",
            "_view_name": "ProgressView",
            "bar_style": "success",
            "description": "",
            "description_tooltip": null,
            "layout": "IPY_MODEL_95ed787d072d44c494df9a4228497030",
            "max": 20,
            "min": 0,
            "orientation": "horizontal",
            "style": "IPY_MODEL_e47587b24ef0481282912b4ba8d60c3f",
            "value": 20
          }
        },
        "49bdde2ba42a4ea4b3c43781d05117d2": {
          "model_module": "@jupyter-widgets/controls",
          "model_name": "HTMLModel",
          "model_module_version": "1.5.0",
          "state": {
            "_dom_classes": [],
            "_model_module": "@jupyter-widgets/controls",
            "_model_module_version": "1.5.0",
            "_model_name": "HTMLModel",
            "_view_count": null,
            "_view_module": "@jupyter-widgets/controls",
            "_view_module_version": "1.5.0",
            "_view_name": "HTMLView",
            "description": "",
            "description_tooltip": null,
            "layout": "IPY_MODEL_0f1c39e2e4dc482f87a5d55a4a83c20b",
            "placeholder": "​",
            "style": "IPY_MODEL_14d52da356a0400187f27735b1cdfe27",
            "value": " 20/20 [00:00&lt;00:00, 742.14it/s]"
          }
        },
        "0f6c62bfffd747b59746f15a8c08e6ff": {
          "model_module": "@jupyter-widgets/base",
          "model_name": "LayoutModel",
          "model_module_version": "1.2.0",
          "state": {
            "_model_module": "@jupyter-widgets/base",
            "_model_module_version": "1.2.0",
            "_model_name": "LayoutModel",
            "_view_count": null,
            "_view_module": "@jupyter-widgets/base",
            "_view_module_version": "1.2.0",
            "_view_name": "LayoutView",
            "align_content": null,
            "align_items": null,
            "align_self": null,
            "border": null,
            "bottom": null,
            "display": null,
            "flex": null,
            "flex_flow": null,
            "grid_area": null,
            "grid_auto_columns": null,
            "grid_auto_flow": null,
            "grid_auto_rows": null,
            "grid_column": null,
            "grid_gap": null,
            "grid_row": null,
            "grid_template_areas": null,
            "grid_template_columns": null,
            "grid_template_rows": null,
            "height": null,
            "justify_content": null,
            "justify_items": null,
            "left": null,
            "margin": null,
            "max_height": null,
            "max_width": null,
            "min_height": null,
            "min_width": null,
            "object_fit": null,
            "object_position": null,
            "order": null,
            "overflow": null,
            "overflow_x": null,
            "overflow_y": null,
            "padding": null,
            "right": null,
            "top": null,
            "visibility": null,
            "width": null
          }
        },
        "86ff9fa9d5094ab3822fe6c175adf186": {
          "model_module": "@jupyter-widgets/base",
          "model_name": "LayoutModel",
          "model_module_version": "1.2.0",
          "state": {
            "_model_module": "@jupyter-widgets/base",
            "_model_module_version": "1.2.0",
            "_model_name": "LayoutModel",
            "_view_count": null,
            "_view_module": "@jupyter-widgets/base",
            "_view_module_version": "1.2.0",
            "_view_name": "LayoutView",
            "align_content": null,
            "align_items": null,
            "align_self": null,
            "border": null,
            "bottom": null,
            "display": null,
            "flex": null,
            "flex_flow": null,
            "grid_area": null,
            "grid_auto_columns": null,
            "grid_auto_flow": null,
            "grid_auto_rows": null,
            "grid_column": null,
            "grid_gap": null,
            "grid_row": null,
            "grid_template_areas": null,
            "grid_template_columns": null,
            "grid_template_rows": null,
            "height": null,
            "justify_content": null,
            "justify_items": null,
            "left": null,
            "margin": null,
            "max_height": null,
            "max_width": null,
            "min_height": null,
            "min_width": null,
            "object_fit": null,
            "object_position": null,
            "order": null,
            "overflow": null,
            "overflow_x": null,
            "overflow_y": null,
            "padding": null,
            "right": null,
            "top": null,
            "visibility": null,
            "width": null
          }
        },
        "5af05a444e474c0ba948109850c73557": {
          "model_module": "@jupyter-widgets/controls",
          "model_name": "DescriptionStyleModel",
          "model_module_version": "1.5.0",
          "state": {
            "_model_module": "@jupyter-widgets/controls",
            "_model_module_version": "1.5.0",
            "_model_name": "DescriptionStyleModel",
            "_view_count": null,
            "_view_module": "@jupyter-widgets/base",
            "_view_module_version": "1.2.0",
            "_view_name": "StyleView",
            "description_width": ""
          }
        },
        "95ed787d072d44c494df9a4228497030": {
          "model_module": "@jupyter-widgets/base",
          "model_name": "LayoutModel",
          "model_module_version": "1.2.0",
          "state": {
            "_model_module": "@jupyter-widgets/base",
            "_model_module_version": "1.2.0",
            "_model_name": "LayoutModel",
            "_view_count": null,
            "_view_module": "@jupyter-widgets/base",
            "_view_module_version": "1.2.0",
            "_view_name": "LayoutView",
            "align_content": null,
            "align_items": null,
            "align_self": null,
            "border": null,
            "bottom": null,
            "display": null,
            "flex": null,
            "flex_flow": null,
            "grid_area": null,
            "grid_auto_columns": null,
            "grid_auto_flow": null,
            "grid_auto_rows": null,
            "grid_column": null,
            "grid_gap": null,
            "grid_row": null,
            "grid_template_areas": null,
            "grid_template_columns": null,
            "grid_template_rows": null,
            "height": null,
            "justify_content": null,
            "justify_items": null,
            "left": null,
            "margin": null,
            "max_height": null,
            "max_width": null,
            "min_height": null,
            "min_width": null,
            "object_fit": null,
            "object_position": null,
            "order": null,
            "overflow": null,
            "overflow_x": null,
            "overflow_y": null,
            "padding": null,
            "right": null,
            "top": null,
            "visibility": null,
            "width": null
          }
        },
        "e47587b24ef0481282912b4ba8d60c3f": {
          "model_module": "@jupyter-widgets/controls",
          "model_name": "ProgressStyleModel",
          "model_module_version": "1.5.0",
          "state": {
            "_model_module": "@jupyter-widgets/controls",
            "_model_module_version": "1.5.0",
            "_model_name": "ProgressStyleModel",
            "_view_count": null,
            "_view_module": "@jupyter-widgets/base",
            "_view_module_version": "1.2.0",
            "_view_name": "StyleView",
            "bar_color": null,
            "description_width": ""
          }
        },
        "0f1c39e2e4dc482f87a5d55a4a83c20b": {
          "model_module": "@jupyter-widgets/base",
          "model_name": "LayoutModel",
          "model_module_version": "1.2.0",
          "state": {
            "_model_module": "@jupyter-widgets/base",
            "_model_module_version": "1.2.0",
            "_model_name": "LayoutModel",
            "_view_count": null,
            "_view_module": "@jupyter-widgets/base",
            "_view_module_version": "1.2.0",
            "_view_name": "LayoutView",
            "align_content": null,
            "align_items": null,
            "align_self": null,
            "border": null,
            "bottom": null,
            "display": null,
            "flex": null,
            "flex_flow": null,
            "grid_area": null,
            "grid_auto_columns": null,
            "grid_auto_flow": null,
            "grid_auto_rows": null,
            "grid_column": null,
            "grid_gap": null,
            "grid_row": null,
            "grid_template_areas": null,
            "grid_template_columns": null,
            "grid_template_rows": null,
            "height": null,
            "justify_content": null,
            "justify_items": null,
            "left": null,
            "margin": null,
            "max_height": null,
            "max_width": null,
            "min_height": null,
            "min_width": null,
            "object_fit": null,
            "object_position": null,
            "order": null,
            "overflow": null,
            "overflow_x": null,
            "overflow_y": null,
            "padding": null,
            "right": null,
            "top": null,
            "visibility": null,
            "width": null
          }
        },
        "14d52da356a0400187f27735b1cdfe27": {
          "model_module": "@jupyter-widgets/controls",
          "model_name": "DescriptionStyleModel",
          "model_module_version": "1.5.0",
          "state": {
            "_model_module": "@jupyter-widgets/controls",
            "_model_module_version": "1.5.0",
            "_model_name": "DescriptionStyleModel",
            "_view_count": null,
            "_view_module": "@jupyter-widgets/base",
            "_view_module_version": "1.2.0",
            "_view_name": "StyleView",
            "description_width": ""
          }
        }
      }
    }
  },
  "cells": [
    {
      "cell_type": "markdown",
      "metadata": {
        "id": "view-in-github",
        "colab_type": "text"
      },
      "source": [
        "<a href=\"https://colab.research.google.com/github/RJaeschke1982/Codex-Playground/blob/main/EBM_Compass.ipynb\" target=\"_parent\"><img src=\"https://colab.research.google.com/assets/colab-badge.svg\" alt=\"Open In Colab\"/></a>"
      ]
    },
    {
      "cell_type": "code",
      "source": [
        "#@title EBM Compass 🧭\n",
        "#@markdown ---\n",
        "#@markdown ### **Krok 1: Wpisz temat i uruchom tę komórkę**\n",
        "#@markdown Wpisz poniżej swój temat badawczy. Narzędzie automatycznie zainstaluje zależności i przeprowadzi cały proces.\n",
        "TEMAT_BADAWCZY = \"\" #@param {type:\"string\"}\n",
        "#@markdown ---\n",
        "\n",
        "# ===================================================================\n",
        "# EBM Compass - Wersja Finalna (Autonomous Research Agent)\n",
        "# -------------------------------------------------------------------\n",
        "# Narzędzie do automatycznej syntezy i rankingu dowodów medycznych.\n",
        "# Operator: dr n. med. Rafał Jaeschke\n",
        "# ===================================================================\n",
        "import sys\n",
        "import subprocess\n",
        "import io, json, openai, os, textwrap, time, csv\n",
        "from datetime import datetime\n",
        "\n",
        "# --- Automatyczna Instalacja Zależności ---\n",
        "def ensure_dependencies():\n",
        "    \"\"\"Weryfikuje i instaluje brakujące pakiety.\"\"\"\n",
        "    print(\"--- [SETUP] Weryfikacja zależności... ---\")\n",
        "    required = {'biopython', 'openai', 'pandas', 'tqdm'}\n",
        "    try:\n",
        "        installed_raw = subprocess.check_output([sys.executable, '-m', 'pip', 'freeze'], stderr=subprocess.DEVNULL)\n",
        "        installed = {pkg.split('==')[0].lower() for pkg in installed_raw.decode().split('\\n')}\n",
        "        missing = required - installed\n",
        "        if missing:\n",
        "            print(f\"--- [SETUP] Instaluję brakujące pakiety: {', '.join(missing)} ---\")\n",
        "            python = sys.executable\n",
        "            subprocess.check_call([python, '-m', 'pip', 'install', '-q', '--no-warn-conflicts', *missing], stdout=subprocess.DEVNULL, stderr=subprocess.DEVNULL)\n",
        "        print(\"--- [SETUP] Zależności gotowe. ---\")\n",
        "    except Exception as e:\n",
        "        print(f\"--- [SETUP] ❌ Błąd instalacji: {e}. Spróbuj zainstalować pakiety ręcznie.\")\n",
        "\n",
        "ensure_dependencies()\n",
        "\n",
        "# --- Dalsze importy ---\n",
        "import pandas as pd\n",
        "from google.colab import userdata, files\n",
        "from IPython.display import Markdown, clear_output, display\n",
        "from tqdm.notebook import tqdm\n",
        "from Bio import Entrez, Medline\n",
        "\n",
        "# ===================================================================\n",
        "# RDZEŃ APLIKACJI - DEFINICJE\n",
        "# ===================================================================\n",
        "\n",
        "# --- Moduł Konstytucji Oceny Dowodów ---\n",
        "class EvidenceAppraisalConstitution:\n",
        "    ELITE_JOURNALS_MEDICINE = [\"N Engl J Med\", \"Lancet\", \"JAMA\", \"BMJ\", \"Nat Med\"]\n",
        "    ELITE_JOURNALS_PSYCHIATRY = [\"Lancet Psychiatry\", \"World Psychiatry\", \"JAMA Psychiatry\", \"Am J Psychiatry\", \"Mol Psychiatry\"]\n",
        "    SCORING_WEIGHTS = {\"GUIDELINE\": 100, \"SYSTEMATIC_REVIEW\": 80, \"META_ANALYSIS\": 80, \"RCT\": 60, \"NARRATIVE_REVIEW\": 20, \"OTHER\": 10, \"ELITE_JOURNAL_BONUS\": 50}\n",
        "\n",
        "# --- Funkcje i Klasy Logiczne ---\n",
        "def get_ai_keywords(temat, client):\n",
        "    prompt = f'Analyze topic: \"{temat}\". Generate JSON with \"core_concept_keywords\" (specific essence of topic) and \"pico_keywords\" (hybrid MeSH and tiab terms for P,I,C,O).'\n",
        "    try:\n",
        "        r = client.chat.completions.create(model=\"gpt-4o\", messages=[{\"role\": \"system\", \"content\": \"You are a PubMed search strategy expert. Respond with JSON.\"}, {\"role\": \"user\", \"content\": prompt}], response_format={\"type\": \"json_object\"})\n",
        "        return json.loads(r.choices[0].message.content)\n",
        "    except Exception as e: print(f\"❌ BŁĄD OpenAI (Keywords): {e}\"); return None\n",
        "\n",
        "def build_query(ai_result):\n",
        "    core = \" OR \".join(ai_result.get(\"core_concept_keywords\", []))\n",
        "    pico_groups = [\" OR \".join(terms) for _, terms in ai_result.get(\"pico_keywords\", {}).items() if terms]\n",
        "    full_query = \" AND \".join(filter(None, [f\"({core})\"] + [f\"({group})\" for group in pico_groups]))\n",
        "    return f\"({full_query}) AND (english[Language])\" if full_query else \"\"\n",
        "\n",
        "def get_pubmed_count(query):\n",
        "    try:\n",
        "        handle = Entrez.esearch(db=\"pubmed\", term=query, retmode=\"xml\"); return int(Entrez.read(handle)[\"Count\"])\n",
        "    except Exception: return -1\n",
        "\n",
        "def refine_query(v1, diagnosis, client):\n",
        "    prompt = f'Initial query (v1): ```{v1}```\\nDiagnosis: \"{diagnosis}\"\\nRewrite the query to v2 to fix these issues. Be more specific. Respond with JSON: {{\"refined_query\": \"...\"}}'\n",
        "    try:\n",
        "        r = client.chat.completions.create(model=\"gpt-4o\", messages=[{\"role\": \"system\", \"content\": \"You are a PubMed query optimization expert. Respond with JSON.\"}, {\"role\": \"user\", \"content\": prompt}], response_format={\"type\": \"json_object\"})\n",
        "        return json.loads(r.choices[0].message.content).get(\"refined_query\")\n",
        "    except Exception: return v1\n",
        "\n",
        "def search_and_parse_pubmed(query, topic):\n",
        "    try:\n",
        "        Entrez.email = \"rafal.jaeschke@gmail.com\"; print(\"\\n--- Komunikacja z PubMed ---\")\n",
        "        h_search = Entrez.esearch(db=\"pubmed\", term=query); ids = Entrez.read(h_search)[\"IdList\"]\n",
        "        if not ids: print(\"✔ Znaleziono 0 publikacji.\"); return None\n",
        "        print(f\"✔ Znaleziono {len(ids)} publikacji. Pobieram rekordy...\")\n",
        "        h_fetch = Entrez.efetch(db=\"pubmed\", id=ids, rettype=\"medline\", retmode=\"text\"); raw = h_fetch.read(); h_fetch.close()\n",
        "        all_data = [{'PMID': r.get('PMID','N/A'), 'Title': r.get('TI','N/A'), 'Abstract': r.get('AB','N/A'), 'Authors': r.get('AU',[]), 'Journal': r.get('TA','N/A'), 'Year': int(r.get('DP','1900')[:4]), 'PubType': r.get('PT',[]), 'Volume': r.get('VI',''), 'Issue': r.get('IP',''), 'Pages': r.get('PG','')} for r in Medline.parse(io.StringIO(raw))]\n",
        "        return pd.DataFrame(all_data)\n",
        "    except Exception as e: print(f\"❌ BŁĄD PubMed: {e}\"); return None\n",
        "\n",
        "def score_and_rank_articles(df: pd.DataFrame):\n",
        "    print(\"\\n--- Rozpoczynam Hierarchiczną Ocenę Dowodów ---\")\n",
        "    scores = []; constitution = EvidenceAppraisalConstitution()\n",
        "    for index, row in tqdm(df.iterrows(), total=df.shape[0], desc=\"Ocena EBM\"):\n",
        "        score = 0; pub_type = [pt.lower() for pt in row['PubType']]\n",
        "        if 'guideline' in pub_type: score += constitution.SCORING_WEIGHTS[\"GUIDELINE\"]\n",
        "        elif 'systematic review' in pub_type or 'meta-analysis' in pub_type: score += constitution.SCORING_WEIGHTS[\"SYSTEMATIC_REVIEW\"]\n",
        "        elif 'randomized controlled trial' in pub_type: score += constitution.SCORING_WEIGHTS[\"RCT\"]\n",
        "        elif 'review' in pub_type: score += constitution.SCORING_WEIGHTS[\"NARRATIVE_REVIEW\"]\n",
        "        else: score += constitution.SCORING_WEIGHTS[\"OTHER\"]\n",
        "        if row['Journal'] in constitution.ELITE_JOURNALS_MEDICINE or row['Journal'] in constitution.ELITE_JOURNALS_PSYCHIATRY: score += constitution.SCORING_WEIGHTS[\"ELITE_JOURNAL_BONUS\"]\n",
        "        recency_factor = max(0.5, 1 - (datetime.now().year - row['Year']) / 20)\n",
        "        score *= recency_factor\n",
        "        scores.append(score)\n",
        "    df['ebm_score'] = scores\n",
        "    df_sorted = df.sort_values(by='ebm_score', ascending=False)\n",
        "    print(\"✔ Oceniono i wybrano Top 15 artykułów.\")\n",
        "    return df_sorted.head(15)\n",
        "\n",
        "def generate_final_report(df_top, question, client):\n",
        "    display(Markdown(\"--- \\n### ✍️ Konfiguracja Raportu Finalnego\"))\n",
        "    report_type = \"For Patients\" if input(\"➡️ Typ raportu: (1) Professional, (2) For Patients: \").strip() == \"2\" else \"Professional\"\n",
        "    language = \"Polish\" if input(\"➡️ Język: (1) Polski, (2) Angielski: \").strip() == \"1\" else \"English\"\n",
        "    style_choice = input(\"➡️ Użyć domyślnego stylu bibliografii (Vancouver)? (tak/nie): \").lower().strip()\n",
        "    if style_choice in [\"tak\", \"t\", \"\"]: citation_style = \"Use the Vancouver citation style.\"\n",
        "    else: citation_style = input(\"➡️ Wklej przykład cytowania lub wytyczne dla autorów: \")\n",
        "\n",
        "    abstracts_context = \"\\n\\n---\\n\\n\".join(df_top.apply(lambda r: f\"Title: {r['Title']}\\nAbstract: {r['Abstract']}\", axis=1).tolist())\n",
        "    df_biblio = df_top[['Authors', 'Title', 'Journal', 'Year', 'Volume', 'Issue', 'Pages']].copy()\n",
        "    df_biblio['Authors'] = df_biblio['Authors'].apply(lambda x: \", \".join(x))\n",
        "    biblio_json = df_biblio.to_json(orient='records', indent=2)\n",
        "\n",
        "    instruction_map = {\"Professional\": \"Write a concise, professional literature review summary (Introduction, Key Findings, Limitations, Conclusion).\", \"For Patients\": \"Write an accessible summary for a non-medical audience ('What was the research about?', 'What did scientists discover?', 'What does this mean for patients?', 'Limitations').\"}\n",
        "    final_prompt = f\"Task: {instruction_map[report_type]}\\nReport Language: {language}\\nResearch Question: \\\"{question}\\\"\\nAbstracts for Analysis: {abstracts_context}\\n---\\nBIBLIOGRAPHY INSTRUCTIONS:\\nFormat citations for the articles below according to the specified style.\\nARTICLE DATA (JSON):\\n{biblio_json}\\nCITATION STYLE:\\n{citation_style}\"\n",
        "\n",
        "    try:\n",
        "        print(\"\\n🧠 AI generuje finalny raport i bibliografię. To może potrwać chwilę...\")\n",
        "        r = client.chat.completions.create(model=\"gpt-4o\", messages=[{\"role\": \"system\", \"content\": f\"You are an expert medical writer. Your response must be in {language}.\"}, {\"role\": \"user\", \"content\": final_prompt}], temperature=0.5)\n",
        "        report_content = r.choices[0].message.content\n",
        "        display(Markdown(f\"---\\n## 📄 Wygenerowany Raport\\n\\n{report_content}\"))\n",
        "\n",
        "        ts = datetime.now().strftime(\"%Y%m%d\"); report_filename = f\"raport_{ts}_{report_type.lower()}_{language.lower()}.md\"\n",
        "        with open(report_filename, \"w\", encoding='utf-8') as f: f.write(report_content)\n",
        "        print(f\"\\n⬇️ Inicjuję pobieranie raportu ({report_filename})...\")\n",
        "        files.download(report_filename)\n",
        "    except Exception as e: print(f\"❌ BŁĄD AI (Report Gen): {e}\")\n",
        "\n",
        "# --- Główny Procesor ---\n",
        "class AutonomousAgent:\n",
        "    def __init__(self):\n",
        "        try:\n",
        "            self.client = openai.OpenAI(api_key=userdata.get(\"OPENAI_API_KEY\"));\n",
        "            print(\"✔ Środowisko gotowe (Agent Autonomiczny).\")\n",
        "        except Exception as e: self.client = None; print(f\"❌ BŁĄD KRYTYCZNY Inicjalizacji: {e}\")\n",
        "\n",
        "    def run(self, topic: str):\n",
        "        if not self.client: return\n",
        "        display(Markdown(f\"# 🤖 Autonomiczny Agent Badawczy\\n**Temat:** {topic}\"))\n",
        "        ai_res = get_ai_keywords(topic, self.client)\n",
        "        if not ai_res: return\n",
        "        question = ai_res.get('structured_question', topic)\n",
        "        display(Markdown(f\"**Sformułowane pytanie:** *{question}*\"))\n",
        "        query = build_query(ai_res)\n",
        "        display(Markdown(f\"**Wygenerowana kwerenda:**\\n```\\n{query}\\n```\"))\n",
        "\n",
        "        df_all = search_and_parse_pubmed(query, topic)\n",
        "        if df_all is None or df_all.empty: print(\"Zakończono. Nie znaleziono publikacji do analizy.\"); return\n",
        "\n",
        "        df_top15 = score_and_rank_articles(df_all)\n",
        "        generate_final_report(df_top15, question, self.client)\n",
        "\n",
        "# --- URUCHOMIENIE ---\n",
        "if \"google.colab\" in sys.modules:\n",
        "    # Używamy zmiennej TEMAT_BADAWCZY z formularza na górze komórki\n",
        "    if 'TEMAT_BADAWCZY' in locals() and TEMAT_BADAWCZY:\n",
        "        agent = AutonomousAgent()\n",
        "        if agent.client:\n",
        "            agent.run(topic=TEMAT_BADAWCZY)\n",
        "    else:\n",
        "        print(\"❌ BŁĄD: Zmienna TEMAT_BADAWCZY nie jest ustawiona. Wpisz temat w formularzu na górze komórki.\")"
      ],
      "metadata": {
        "colab": {
          "base_uri": "https://localhost:8080/",
          "height": 1000,
          "referenced_widgets": [
            "64dcd2aa8356492799d339282eafc319",
            "f277096e3a3e424f8ef1b7547c97f0b3",
            "c726576cf59f4fadaae24c8a534c3d46",
            "49bdde2ba42a4ea4b3c43781d05117d2",
            "0f6c62bfffd747b59746f15a8c08e6ff",
            "86ff9fa9d5094ab3822fe6c175adf186",
            "5af05a444e474c0ba948109850c73557",
            "95ed787d072d44c494df9a4228497030",
            "e47587b24ef0481282912b4ba8d60c3f",
            "0f1c39e2e4dc482f87a5d55a4a83c20b",
            "14d52da356a0400187f27735b1cdfe27"
          ]
        },
        "id": "caC_v-yg2Xv1",
        "outputId": "87247c30-6b0c-4bff-b597-9c0d405e5f34"
      },
      "execution_count": 6,
      "outputs": [
        {
          "output_type": "stream",
          "name": "stdout",
          "text": [
            "--- [SETUP] Weryfikacja zależności... ---\n",
            "--- [SETUP] Zależności gotowe. ---\n",
            "✔ Środowisko gotowe (Agent Autonomiczny).\n"
          ]
        },
        {
          "output_type": "display_data",
          "data": {
            "text/plain": [
              "<IPython.core.display.Markdown object>"
            ],
            "text/markdown": "# 🤖 Autonomiczny Agent Badawczy\n**Temat:** medicinal marihuana for ADHD in adults"
          },
          "metadata": {}
        },
        {
          "output_type": "display_data",
          "data": {
            "text/plain": [
              "<IPython.core.display.Markdown object>"
            ],
            "text/markdown": "**Sformułowane pytanie:** *medicinal marihuana for ADHD in adults*"
          },
          "metadata": {}
        },
        {
          "output_type": "display_data",
          "data": {
            "text/plain": [
              "<IPython.core.display.Markdown object>"
            ],
            "text/markdown": "**Wygenerowana kwerenda:**\n```\n((medicinal marijuana OR ADHD OR adults) AND (ADHD OR Attention Deficit Hyperactivity Disorder OR adults OR adult population) AND (medicinal marijuana OR medical cannabis OR cannabis-based medicine OR cannabinoids OR THC OR CBD) AND (placebo OR standard treatment OR traditional ADHD medication OR behavioral therapy OR psychostimulants) AND (symptom improvement OR attention enhancement OR reduced hyperactivity OR adverse effects OR treatment efficacy)) AND (english[Language])\n```"
          },
          "metadata": {}
        },
        {
          "output_type": "stream",
          "name": "stdout",
          "text": [
            "\n",
            "--- Komunikacja z PubMed ---\n",
            "✔ Znaleziono 20 publikacji. Pobieram rekordy...\n",
            "\n",
            "--- Rozpoczynam Hierarchiczną Ocenę Dowodów ---\n"
          ]
        },
        {
          "output_type": "display_data",
          "data": {
            "text/plain": [
              "Ocena EBM:   0%|          | 0/20 [00:00<?, ?it/s]"
            ],
            "application/vnd.jupyter.widget-view+json": {
              "version_major": 2,
              "version_minor": 0,
              "model_id": "64dcd2aa8356492799d339282eafc319"
            }
          },
          "metadata": {}
        },
        {
          "output_type": "stream",
          "name": "stdout",
          "text": [
            "✔ Oceniono i wybrano Top 15 artykułów.\n"
          ]
        },
        {
          "output_type": "display_data",
          "data": {
            "text/plain": [
              "<IPython.core.display.Markdown object>"
            ],
            "text/markdown": "--- \n### ✍️ Konfiguracja Raportu Finalnego"
          },
          "metadata": {}
        },
        {
          "output_type": "stream",
          "name": "stdout",
          "text": [
            "➡️ Typ raportu: (1) Professional, (2) For Patients: 1\n",
            "➡️ Język: (1) Polski, (2) Angielski: 2\n",
            "➡️ Użyć domyślnego stylu bibliografii (Vancouver)? (tak/nie): t\n",
            "\n",
            "🧠 AI generuje finalny raport i bibliografię. To może potrwać chwilę...\n"
          ]
        },
        {
          "output_type": "display_data",
          "data": {
            "text/plain": [
              "<IPython.core.display.Markdown object>"
            ],
            "text/markdown": "---\n## 📄 Wygenerowany Raport\n\nIntroduction:\nThe use of medicinal marijuana for managing symptoms of Attention-Deficit/Hyperactivity Disorder (ADHD) in adults is gaining interest due to its potential therapeutic benefits. As ADHD continues to affect a significant portion of the adult population, exploring alternative treatments such as cannabinoids, particularly cannabidiol (CBD) and tetrahydrocannabinol (THC), is crucial. This literature review aims to summarize the current research on the efficacy, safety, and limitations of medicinal marijuana for ADHD in adults.\n\nKey Findings:\n1. Cannabinoid Effects: Some studies suggest that cannabinoids, particularly CBD, may have therapeutic effects in managing ADHD symptoms due to their interaction with the endocannabinoid system, which plays a role in regulating mood and attention (Campanale et al., 2025).\n2. Pain and Anxiety: While cannabinoids have shown efficacy in managing pain and anxiety, their specific effects on ADHD symptoms require further investigation (Bergeria et al., 2025; Messina et al., 2025).\n3. Safety Concerns: Research indicates potential adverse effects, such as liver enzyme elevation and psychomimetic toxicity, especially at higher doses of CBD and THC (Florian et al., 2025; Hardy et al., 2025).\n4. Neurobiological Insights: Cannabinoids may modulate brain activity related to craving and addiction, which could be relevant for ADHD management (Murphy et al., 2025).\n\nLimitations:\n1. Lack of Direct Research: The abstracts analyzed do not directly address the use of medicinal marijuana specifically for ADHD, highlighting a gap in the literature.\n2. Small Sample Sizes: Many studies involve small participant numbers, limiting the generalizability of findings (Hurzeler et al., 2025).\n3. Short Study Durations: Most studies are short-term, providing limited information on long-term efficacy and safety (Vetter et al., 2025).\n\nConclusion:\nCurrent literature provides preliminary insights into the potential benefits and risks of medicinal marijuana for ADHD in adults, but direct evidence remains scarce. Future research should focus on large-scale, long-term studies specifically targeting ADHD to better understand the therapeutic potential and safety of cannabinoids in this population. Until then, clinicians should exercise caution and consider existing evidence when discussing medicinal marijuana as a treatment option for ADHD.\n\n---\n\nCitations:\n1. Bergeria CL, Mun CJ, Speed TJ, Huhn AS, Wolinsky D, Vandrey R, Campbell CM, Dunn KE. A within-subject, double-blind, placebo-controlled randomized evaluation of the combined effects of cannabidiol and hydromorphone in a human laboratory pain model. Pain. 2025;166(9):e175-e184.\n2. Hurzeler T, DeMayo M, Logge W, Watt J, McGregor IS, Suraev A, Haber P, Morley K. The effect of cannabidiol on neurometabolite levels in alcohol use disorder. Alcohol Alcohol. 2025;60(4).\n3. Hardy JR, Greer RM, Pelecanos AM, Huggett GE, Kearney AM, Gurgenci TH, Good PD. Medicinal cannabis for symptom control in advanced cancer: a double-blind, placebo-controlled, randomised clinical trial of 1:1 tetrahydrocannabinol and cannabidiol. Support Care Cancer. 2025;33(8):715.\n4. Florian J, Salcedo P, Burkhart K, Shah A, Chekka LMS, Keshishi D, Patel V, Yang S, Fein M, DePalma R, Matta M, Strauss DG, Rouse R. Cannabidiol and Liver Enzyme Level Elevations in Healthy Adults: A Randomized Clinical Trial. JAMA Intern Med. 2025;185(9):1070-1078.\n5. Murphy E, Dakhili AH, Ganesan S, Zalesky A, Glarin R, Thomson H, Paloubis A, Kamboj SK, Moffat BA, Poudel G, Suo C, Lorenzetti V. CannChange: a protocol for a feasibility study using fMRI-based neurofeedback to change the neurobiology of craving in cannabis use disorder. BMJ Open. 2025;15(8):e105854.\n6. Messina A, Monda A, Vassallo V, Di Maio G, Polito R, La Marra M, Allocca S, Casillo M, Moscatelli F, Scavone C, Taturi F, Monda V, Messina G, Schiraldi C, Monda M. The Potential Benefits of a Novel Food Supplement Based on Cannabis Sativa, Boswellia, and Fish Oil for Pain and Inflammation in Physical Activity: Unraveling the Role of Orexin-A Modulation. Sports (Basel). 2025;13(7)."
          },
          "metadata": {}
        },
        {
          "output_type": "stream",
          "name": "stdout",
          "text": [
            "\n",
            "⬇️ Inicjuję pobieranie raportu (raport_20250905_professional_english.md)...\n"
          ]
        },
        {
          "output_type": "display_data",
          "data": {
            "text/plain": [
              "<IPython.core.display.Javascript object>"
            ],
            "application/javascript": [
              "\n",
              "    async function download(id, filename, size) {\n",
              "      if (!google.colab.kernel.accessAllowed) {\n",
              "        return;\n",
              "      }\n",
              "      const div = document.createElement('div');\n",
              "      const label = document.createElement('label');\n",
              "      label.textContent = `Downloading \"${filename}\": `;\n",
              "      div.appendChild(label);\n",
              "      const progress = document.createElement('progress');\n",
              "      progress.max = size;\n",
              "      div.appendChild(progress);\n",
              "      document.body.appendChild(div);\n",
              "\n",
              "      const buffers = [];\n",
              "      let downloaded = 0;\n",
              "\n",
              "      const channel = await google.colab.kernel.comms.open(id);\n",
              "      // Send a message to notify the kernel that we're ready.\n",
              "      channel.send({})\n",
              "\n",
              "      for await (const message of channel.messages) {\n",
              "        // Send a message to notify the kernel that we're ready.\n",
              "        channel.send({})\n",
              "        if (message.buffers) {\n",
              "          for (const buffer of message.buffers) {\n",
              "            buffers.push(buffer);\n",
              "            downloaded += buffer.byteLength;\n",
              "            progress.value = downloaded;\n",
              "          }\n",
              "        }\n",
              "      }\n",
              "      const blob = new Blob(buffers, {type: 'application/binary'});\n",
              "      const a = document.createElement('a');\n",
              "      a.href = window.URL.createObjectURL(blob);\n",
              "      a.download = filename;\n",
              "      div.appendChild(a);\n",
              "      a.click();\n",
              "      div.remove();\n",
              "    }\n",
              "  "
            ]
          },
          "metadata": {}
        },
        {
          "output_type": "display_data",
          "data": {
            "text/plain": [
              "<IPython.core.display.Javascript object>"
            ],
            "application/javascript": [
              "download(\"download_cd1c847f-5a0a-46c9-b4ee-fb77aaa2ec60\", \"raport_20250905_professional_english.md\", 4123)"
            ]
          },
          "metadata": {}
        }
      ]
    }
  ]
}